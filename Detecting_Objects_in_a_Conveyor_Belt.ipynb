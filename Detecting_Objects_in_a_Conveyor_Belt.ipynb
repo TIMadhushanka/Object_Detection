{
 "cells": [
  {
   "cell_type": "code",
   "execution_count": null,
   "metadata": {},
   "outputs": [],
   "source": [
    "import cv2 as cv\n",
    "import numpy as np\n",
    "import matplotlib.pyplot as plt\n",
    "\n",
    "hexnut=cv.imread('hexnut_template.png',cv.IMREAD_COLOR)\n",
    "squarenut=cv.imread('squarenut_template.png',cv.IMREAD_COLOR)\n",
    "conv=cv.imread('conveyor_f100.png',cv.IMREAD_COLOR)\n",
    "\n",
    "assert hexnut is not None\n",
    "assert squarenut is not None\n",
    "assert conv is not None\n",
    "\n",
    "fig,ax=plt.subplots(1,3,figsize=(12,36))\n",
    "for i in range(3):\n",
    "    ax[i].set_axis_off()\n",
    "ax[0].imshow(cv.cvtColor(hexnut,cv.COLOR_BGR2RGB))\n",
    "ax[1].imshow(cv.cvtColor(squarenut,cv.COLOR_BGR2RGB))\n",
    "ax[2].imshow(cv.cvtColor(conv,cv.COLOR_BGR2RGB))"
   ]
  },
  {
   "cell_type": "markdown",
   "metadata": {},
   "source": [
    "Thresholding"
   ]
  },
  {
   "cell_type": "code",
   "execution_count": null,
   "metadata": {},
   "outputs": [],
   "source": [
    "import cv2 as cv\n",
    "import numpy as np\n",
    "import matplotlib.pyplot as plt\n",
    "\n",
    "hexnut=cv.imread('hexnut_template.png',cv.IMREAD_GRAYSCALE)\n",
    "squarenut=cv.imread('squarenut_template.png',cv.IMREAD_GRAYSCALE)\n",
    "conv=cv.imread('conveyor_f100.png',cv.IMREAD_GRAYSCALE)\n",
    "\n",
    "assert hexnut is not None\n",
    "assert squarenut is not None\n",
    "assert conv is not None\n",
    "\n",
    "rethex,threshex=cv.threshold(hexnut,0,255,cv.THRESH_OTSU)\n",
    "retsq,thressq=cv.threshold(squarenut,0,255,cv.THRESH_OTSU)\n",
    "retconv,thresconv=cv.threshold(conv,0,255,cv.THRESH_OTSU)\n",
    "\n",
    "print('Threshold value of hexnut is : ',rethex)\n",
    "print('Threshold value of squarenut is : ',retsq)\n",
    "print('Threshold value of conveyor is : ',retconv)\n",
    "\n",
    "fig,ax=plt.subplots(1,3,figsize=(12,36))\n",
    "for i in range(3):\n",
    "    ax[i].set_axis_off()\n",
    "ax[0].imshow(threshex,cmap='gray')\n",
    "ax[1].imshow(thressq,cmap='gray')\n",
    "ax[2].imshow(thresconv,cmap='gray')\n"
   ]
  },
  {
   "cell_type": "markdown",
   "metadata": {},
   "source": [
    "In here, background is white while foreground is black. Therefore, inverse transformation is used to change the colors."
   ]
  },
  {
   "cell_type": "code",
   "execution_count": null,
   "metadata": {},
   "outputs": [],
   "source": [
    "t=255-np.arange(0,256,1).astype(np.uint8)\n",
    "assert t[0]==255 #Length of array is 256\n",
    "\n",
    "threshex=t[threshex] #Indexing the transformation t with the values of pixels in the img\n",
    "thressq=t[thressq]\n",
    "thresconv=t[thresconv]\n",
    "\n",
    "fig,ax=plt.subplots(1,3,figsize=(12,36))\n",
    "for i in range(3):\n",
    "    ax[i].set_axis_off()\n",
    "ax[0].imshow(threshex,cmap='gray')\n",
    "ax[1].imshow(thressq,cmap='gray')\n",
    "ax[2].imshow(thresconv,cmap='gray')"
   ]
  },
  {
   "cell_type": "markdown",
   "metadata": {},
   "source": [
    "Morphological closing"
   ]
  },
  {
   "cell_type": "code",
   "execution_count": null,
   "metadata": {},
   "outputs": [],
   "source": [
    "se=np.ones((3,3),np.uint8)\n",
    "\n",
    "threshex2=cv.morphologyEx(threshex,cv.MORPH_CLOSE,se)\n",
    "thressq2=cv.morphologyEx(thressq,cv.MORPH_CLOSE,se)\n",
    "thresconv2=cv.morphologyEx(thresconv,cv.MORPH_CLOSE,se)\n",
    "\n",
    "fig,ax=plt.subplots(1,6,figsize=(12,36))\n",
    "for i in range(6):\n",
    "    ax[i].set_axis_off()\n",
    "ax[0].imshow(threshex,cmap='gray')\n",
    "ax[0].set_title('original')\n",
    "ax[1].imshow(threshex2,cmap='gray')\n",
    "ax[1].set_title('Closed')\n",
    "ax[2].imshow(thressq,cmap='gray')\n",
    "ax[2].set_title('original')\n",
    "ax[3].imshow(thressq2,cmap='gray')\n",
    "ax[3].set_title('Closed')\n",
    "ax[4].imshow(thresconv,cmap='gray')\n",
    "ax[4].set_title('original')\n",
    "ax[5].imshow(thresconv2,cmap='gray')\n",
    "ax[5].set_title('Closed')"
   ]
  },
  {
   "cell_type": "markdown",
   "metadata": {},
   "source": [
    "Connected component analysis"
   ]
  },
  {
   "cell_type": "code",
   "execution_count": null,
   "metadata": {},
   "outputs": [],
   "source": [
    "rethex,labelhex,statshex,centroidhex=cv.connectedComponentsWithStats(threshex2)\n",
    "retsq,labelsq,statssq,centroidsq=cv.connectedComponentsWithStats(thressq2)\n",
    "retconv,labelconv,statsconv,centroidconv=cv.connectedComponentsWithStats(thresconv2)\n",
    "\n",
    "labelhex=cv.normalize(labelhex,0,255,cv.NORM_MINMAX).astype(np.uint8)\n",
    "labelsq=cv.normalize(labelsq,0,255,cv.NORM_MINMAX).astype(np.uint8)\n",
    "labelconv=cv.normalize(labelconv,0,255,cv.NORM_MINMAX).astype(np.uint8)\n",
    "\n",
    "indexhex=cv.applyColorMap(labelhex,cv.COLORMAP_JET)\n",
    "indexsq=cv.applyColorMap(labelsq,cv.COLORMAP_JET)\n",
    "indexconv=cv.applyColorMap(labelconv,cv.COLORMAP_JET)\n",
    "\n",
    "fig,ax=plt.subplots(1,3,figsize=(16,48))\n",
    "ax[0].imshow(labelhex)\n",
    "ax[0].set_title('Hexnut')\n",
    "ax[1].imshow(labelsq)\n",
    "ax[1].set_title('Squarenut')\n",
    "ax[2].imshow(labelconv)\n",
    "ax[2].set_title('Conveyor belt')"
   ]
  },
  {
   "cell_type": "code",
   "execution_count": null,
   "metadata": {},
   "outputs": [],
   "source": [
    "print('Connected component in Hexnut image is : ',rethex)\n",
    "print('Connected component in Squarenut image is : ',retsq)\n",
    "print('Connected component in Conveyor_f100 image is : ',retconv)\n",
    "\n",
    "print('\\n')\n",
    "print('Hexnut - location = ',statshex[1][0],statshex[1][1])\n",
    "print('Hexnut - Width = ',statshex[1][2])\n",
    "print('Hexnut - Height = ',statshex[1][3])\n",
    "print('Hexnut - Area = ',statshex[1][4])\n",
    "print('Hexnut - Centroid = ',centroidhex[1])\n",
    "\n",
    "print('\\n')\n",
    "print('Squarenut - location = ',statssq[1][0],statssq[1][1])\n",
    "print('squarenut - Width = ',statssq[1][2])\n",
    "print('squareut - Height = ',statssq[1][3])\n",
    "print('Squarenut - Area = ',statssq[1][4])\n",
    "print('Squarenut - Centroid = ',centroidsq[1])\n",
    "\n",
    "print('\\n')\n",
    "for i in range(1, retconv):\n",
    "    print('Component', i)\n",
    "    print('    Location:', statsconv[i][0], statsconv[i][1])\n",
    "    print('    Width:', statsconv[i][2])\n",
    "    print('    Height:', statsconv[i][3])\n",
    "    print('    Area:', statsconv[i][4])\n",
    "    print('    Centroid:', centroidconv[i])\n",
    "    print('\\n')\n"
   ]
  },
  {
   "cell_type": "markdown",
   "metadata": {},
   "source": [
    "Converting label image into a binary image"
   ]
  },
  {
   "cell_type": "code",
   "execution_count": null,
   "metadata": {},
   "outputs": [],
   "source": [
    "binary = np.zeros_like(labelconv, dtype=np.uint8)\n",
    "for label in range(1, labelconv.max() + 1):\n",
    "    binary[labelconv == label] = 1\n",
    "\n",
    "# Return the resulting binary image\n",
    "binary_image = binary.astype(bool)*255\n",
    "binary_image=binary_image.astype(np.uint8)\n",
    "plt.imshow(binary_image,cmap='gray')"
   ]
  },
  {
   "cell_type": "code",
   "execution_count": null,
   "metadata": {},
   "outputs": [],
   "source": [
    "contours, hierarchy = cv.findContours(binary_image, cv.RETR_EXTERNAL, cv.CHAIN_APPROX_NONE)\n",
    "bin=binary_image.copy()\n",
    "\n",
    "img = cv.drawContours(bin, contours, -1, (150, 150, 250), 8)\n",
    "fig,ax=plt.subplots(1,2,figsize=(16,48))\n",
    "ax[0].imshow(img)\n",
    "ax[0].set_title('With contours')\n",
    "ax[1].imshow(binary_image)\n",
    "ax[1].set_title('original')"
   ]
  },
  {
   "cell_type": "code",
   "execution_count": null,
   "metadata": {},
   "outputs": [],
   "source": [
    "l=[]\n",
    "for i in range(len(contours)):\n",
    "    epsilon = 0.01 * cv.arcLength(contours[i], True)\n",
    "    approx_polygon = cv.approxPolyDP(contours[i], epsilon, True)\n",
    "    l.append(len(approx_polygon))\n",
    "print('Number of Hexnuts : ',l.count(6))\n",
    "print('Number of Squarenuts : ',l.count(4))\n",
    "\n"
   ]
  },
  {
   "cell_type": "markdown",
   "metadata": {},
   "source": [
    "Another method using cv.matchshapes()"
   ]
  },
  {
   "cell_type": "code",
   "execution_count": null,
   "metadata": {},
   "outputs": [],
   "source": [
    "#Here contour[3] is for the hexogonal nut\n",
    "same=[]\n",
    "diff=[]\n",
    "for i in range(4):\n",
    "    for j in range(4):\n",
    "        if i!=j:\n",
    "            match_value = cv.matchShapes(contours[i], contours[j], 1, 0.0)\n",
    "            if match_value>0.001: #this value was used as the threshold\n",
    "                if [j,i] not in diff:\n",
    "                    diff.append([i,j])\n",
    "                \n",
    "            else:\n",
    "                if [j,i] not in same:\n",
    "                    same.append([i,j])\n"
   ]
  },
  {
   "cell_type": "code",
   "execution_count": null,
   "metadata": {},
   "outputs": [],
   "source": [
    "s=[]\n",
    "for i in same:\n",
    "    for j in i:\n",
    "        s.append(j)\n",
    "s=list(set(s))\n",
    "\n",
    "if 3 in s:\n",
    "    n_hex=len(s)\n",
    "    n_sq=len(contours)-len(s)\n",
    "else:\n",
    "    n_sq=len(s)\n",
    "    n_hex=len(contours)-len(s)\n",
    "\n",
    "print('Number of Hexnuts : ',n_hex)\n",
    "print('Number of Squarenuts : ',n_sq)"
   ]
  },
  {
   "cell_type": "markdown",
   "metadata": {},
   "source": [
    "Detecting Objects on a Synthetic Conveyor"
   ]
  },
  {
   "cell_type": "code",
   "execution_count": null,
   "metadata": {},
   "outputs": [],
   "source": [
    "import cv2 as cv\n",
    "import numpy as np\n",
    "from scipy.optimize import linear_sum_assignment\n",
    "\n",
    "# Initialize the list of objects\n",
    "objects = []\n",
    "ll=[]\n",
    "frame_array = []\n",
    "\n",
    "fn = 'conveyor.mp4'\n",
    "cap = cv.VideoCapture(fn)\n",
    "\n",
    "if not cap.isOpened():\n",
    "    print('Cannot open the file {}'.format(fn))\n",
    "cv.namedWindow('Conveyor',  cv.WINDOW_FULLSCREEN)\n",
    "\n",
    "f = 0\n",
    "frame = [] \n",
    "a=[]     \n",
    "\n",
    "while cap.isOpened():                                    \n",
    "    ret, frame = cap.read()\n",
    "    if not ret:\n",
    "        print(\"Can't receive frame (stream end?). Exiting.\")\n",
    "        break\n",
    "    \n",
    "    gray=cv.cvtColor(frame,cv.COLOR_BGR2GRAY)\n",
    "    ret,thresh=cv.threshold(gray,0,255,cv.THRESH_OTSU)\n",
    "\n",
    "    t=255-np.arange(0,256,1).astype(np.uint8)\n",
    "    thresh=t[thresh] \n",
    "    \n",
    "    se=np.ones((3,3),np.uint8)\n",
    "    thresh=cv.morphologyEx(thresh,cv.MORPH_CLOSE,se)\n",
    "    num_labels, labels, stats, centroids = cv.connectedComponentsWithStats(thresh)\n",
    "    labels=cv.normalize(labels,0,255,cv.NORM_MINMAX).astype(np.uint8)\n",
    "\n",
    "    binary = np.zeros_like(labels, dtype=np.uint8)\n",
    "    for label in range(1, labels.max() + 1):\n",
    "        binary[labels == label] = 1\n",
    "\n",
    "    # Return the resulting binary image\n",
    "    binary_image = binary.astype(bool)*255\n",
    "    labelss=binary_image.astype(np.uint8)\n",
    "    \n",
    "    contours, hierarchy = cv.findContours(labelss, cv.RETR_EXTERNAL, cv.CHAIN_APPROX_NONE)\n",
    "    \n",
    "    # Get the detections as the centroids of the connected components\n",
    "    detections = []\n",
    "    n_pix=[]\n",
    "    \n",
    "    for i in range(1, num_labels):\n",
    "        mask = (labels == i)\n",
    "        count = np.count_nonzero(mask)\n",
    "        n_pix.append(count)\n",
    "        cx, cy = centroids[i]\n",
    "        detections.append((cx, cy))\n",
    "\n",
    "\n",
    "    # Match the detections to the existing objects using the Hungarian algorithm\n",
    "    cost_matrix = np.zeros((len(objects), len(detections)))\n",
    "    for i in range(len(objects)):\n",
    "        for j in range(len(detections)):\n",
    "            # Compute the Euclidean distance between the predicted location and the detection\n",
    "            x = objects[i]\n",
    "            y = detections[j]\n",
    "            d = np.sqrt((x[0]-y[0])**2 + (x[1]-y[1])**2)\n",
    "\n",
    "            # Set the cost as the Euclidean distance\n",
    "            cost_matrix[i, j] = d\n",
    "\n",
    "    row_ind, col_ind = linear_sum_assignment(cost_matrix)\n",
    "    for i, j in zip(row_ind, col_ind):\n",
    "        # Update the location of the object\n",
    "        objects[i] = detections[j]\n",
    "        ll[i]=n_pix[j]\n",
    "\n",
    "    \n",
    "    # Add new objects for unmatched detections\n",
    "    for j in range(len(detections)):\n",
    "        if j not in col_ind:\n",
    "            objects.append(detections[j])\n",
    "            ll.append(n_pix[j])\n",
    "        \n",
    "    frame2=frame.copy()\n",
    "    text = 'Frame:' + str(f)+' ,current objects: '+str(len(detections))+' ,all objects: '+str(len(objects))\n",
    "    cv.putText(frame2,text , (100, 100), cv.FONT_HERSHEY_COMPLEX, 1, (0,250,0), 1, cv.LINE_AA)\n",
    "\n",
    "    # Draw the objects on the frame\n",
    "    for obj in range(len(objects)):\n",
    "        x, y = int(objects[obj][0]), int(objects[obj][1])\n",
    "        if x>3:\n",
    "            tt=str(obj)+' : '+str(x)+','+str(y)\n",
    "            cv.putText(frame2,tt , (100, 120+20*obj), cv.FONT_HERSHEY_COMPLEX, 0.5, (255,0,0), 1, cv.LINE_AA)\n",
    "            if ll[obj]>5000 and ll[obj]<7000:\n",
    "                cv.rectangle(frame2, (x-50, y-50), (x+50, y+50), (0, 255, 0), 2)\n",
    "            elif ll[obj]>=7000:\n",
    "                cv.rectangle(frame2, (x-50, y-50), (x+50, y+50), (0, 0, 255), 2)\n",
    "            else:\n",
    "                cv.rectangle(frame2, (x-50, y-50), (x+50, y+50), (255, 0, 0), 2)\n",
    "    frame_array.append(frame2)\n",
    "    cv.imshow('Conveyor', frame2)\n",
    "\n",
    "    if cv.waitKey(1) == ord('q'):  \n",
    "        break\n",
    "\n",
    "cap.release()\n",
    "cv.destroyAllWindows()\n",
    "\n"
   ]
  },
  {
   "cell_type": "markdown",
   "metadata": {},
   "source": [
    "Writing the video"
   ]
  },
  {
   "cell_type": "code",
   "execution_count": null,
   "metadata": {},
   "outputs": [],
   "source": [
    "\n",
    "# Writing the video\n",
    "shape = (1080, 1920, 3)\n",
    "\n",
    "\n",
    "out = cv.VideoWriter('./conveyor_result.mp4',cv.VideoWriter_fourcc(*'h264'), 30, (shape[1], shape[0]))\n",
    " \n",
    "for i in range(len(frame_array)):\n",
    "    cv.imshow('Frame', frame_array[i])\n",
    "    if cv.waitKey(1) == ord('q'):\n",
    "        break\n",
    "    out.write(frame_array[i])\n",
    "\n",
    "out.release()\n",
    "cv.destroyAllWindows()"
   ]
  }
 ],
 "metadata": {
  "kernelspec": {
   "display_name": "Python 3 (ipykernel)",
   "language": "python",
   "name": "python3"
  },
  "language_info": {
   "codemirror_mode": {
    "name": "ipython",
    "version": 3
   },
   "file_extension": ".py",
   "mimetype": "text/x-python",
   "name": "python",
   "nbconvert_exporter": "python",
   "pygments_lexer": "ipython3",
   "version": "3.9.13"
  },
  "vscode": {
   "interpreter": {
    "hash": "1df3a8821d9572c43dc1566313a4726de4fef46bb238b5a108cd916e42e22d30"
   }
  }
 },
 "nbformat": 4,
 "nbformat_minor": 2
}
